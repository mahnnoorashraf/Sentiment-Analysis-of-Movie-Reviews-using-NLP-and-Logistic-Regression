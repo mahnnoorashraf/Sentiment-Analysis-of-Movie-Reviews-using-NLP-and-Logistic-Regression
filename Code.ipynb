{
  "cells": [
    {
      "cell_type": "code",
      "execution_count": 1,
      "id": "8d28ab51",
      "metadata": {
        "colab": {
          "base_uri": "https://localhost:8080/"
        },
        "id": "8d28ab51",
        "outputId": "b1fb43df-47c9-4e65-ccc5-c276e803b1fd"
      },
      "outputs": [
        {
          "output_type": "stream",
          "name": "stderr",
          "text": [
            "[nltk_data] Downloading package stopwords to /root/nltk_data...\n",
            "[nltk_data]   Unzipping corpora/stopwords.zip.\n",
            "[nltk_data] Downloading package punkt to /root/nltk_data...\n",
            "[nltk_data]   Unzipping tokenizers/punkt.zip.\n",
            "[nltk_data] Error loading punk_tab: Package 'punk_tab' not found in\n",
            "[nltk_data]     index\n"
          ]
        },
        {
          "output_type": "execute_result",
          "data": {
            "text/plain": [
              "False"
            ]
          },
          "metadata": {},
          "execution_count": 1
        }
      ],
      "source": [
        "import nltk\n",
        "nltk.download('stopwords')\n",
        "nltk.download('punkt')\n",
        "nltk.download('punk_tab')"
      ]
    },
    {
      "cell_type": "code",
      "execution_count": null,
      "id": "b94364c4",
      "metadata": {
        "id": "b94364c4"
      },
      "outputs": [],
      "source": [
        "import pandas as pd\n",
        "import re\n",
        "from nltk.corpus import stopwords\n",
        "from nltk.tokenize import word_tokenize"
      ]
    },
    {
      "cell_type": "code",
      "execution_count": null,
      "id": "7a0ce261",
      "metadata": {
        "id": "7a0ce261",
        "outputId": "4963c9e5-2335-424e-966f-be562b982ea7"
      },
      "outputs": [
        {
          "name": "stdout",
          "output_type": "stream",
          "text": [
            "\u001b[38;5;2m✔ Download and installation successful\u001b[0m\n",
            "You can now load the package via spacy.load('en_core_web_sm')\n",
            "\u001b[38;5;3m⚠ Restart to reload dependencies\u001b[0m\n",
            "If you are in a Jupyter or Colab notebook, you may need to restart Python in\n",
            "order to load all the package's dependencies. You can do this by selecting the\n",
            "'Restart kernel' or 'Restart runtime' option.\n"
          ]
        }
      ],
      "source": [
        "import spacy\n",
        "spacy.cli.download(\"en_core_web_sm\")\n",
        "nlp = spacy.load(\"en_core_web_sm\")"
      ]
    },
    {
      "cell_type": "code",
      "execution_count": null,
      "id": "963b6cf9",
      "metadata": {
        "id": "963b6cf9",
        "outputId": "eb774236-ef19-4914-bc17-918092d0448e"
      },
      "outputs": [
        {
          "name": "stdout",
          "output_type": "stream",
          "text": [
            "First five rows of dataset:\n"
          ]
        },
        {
          "data": {
            "text/html": [
              "<div>\n",
              "<style scoped>\n",
              "    .dataframe tbody tr th:only-of-type {\n",
              "        vertical-align: middle;\n",
              "    }\n",
              "\n",
              "    .dataframe tbody tr th {\n",
              "        vertical-align: top;\n",
              "    }\n",
              "\n",
              "    .dataframe thead th {\n",
              "        text-align: right;\n",
              "    }\n",
              "</style>\n",
              "<table border=\"1\" class=\"dataframe\">\n",
              "  <thead>\n",
              "    <tr style=\"text-align: right;\">\n",
              "      <th></th>\n",
              "      <th>review</th>\n",
              "      <th>sentiment</th>\n",
              "    </tr>\n",
              "  </thead>\n",
              "  <tbody>\n",
              "    <tr>\n",
              "      <th>0</th>\n",
              "      <td>One of the other reviewers has mentioned that after watching just 1 Oz episode you'll be hooked. They are right, as this is exactly what happened with me.&lt;br /&gt;&lt;br /&gt;The first thing that struck me about Oz was its brutality and unflinching scenes of violence, which set in right from the word GO. Trust me, this is not a show for the faint hearted or timid. This show pulls no punches with regards to drugs, sex or violence. Its is hardcore, in the classic use of the word.&lt;br /&gt;&lt;br /&gt;It is called OZ as that is the nickname given to the Oswald Maximum Security State Penitentary. It focuses mainly on Emerald City, an experimental section of the prison where all the cells have glass fronts and face inwards, so privacy is not high on the agenda. Em City is home to many..Aryans, Muslims, gangstas, Latinos, Christians, Italians, Irish and more....so scuffles, death stares, dodgy dealings and shady agreements are never far away.&lt;br /&gt;&lt;br /&gt;I would say the main appeal of the show is due to the fact that it goes where other shows wouldn't dare. Forget pretty pictures painted for mainstream audiences, forget charm, forget romance...OZ doesn't mess around. The first episode I ever saw struck me as so nasty it was surreal, I couldn't say I was ready for it, but as I watched more, I developed a taste for Oz, and got accustomed to the high levels of graphic violence. Not just violence, but injustice (crooked guards who'll be sold out for a nickel, inmates who'll kill on order and get away with it, well mannered, middle class inmates being turned into prison bitches due to their lack of street skills or prison experience) Watching Oz, you may become comfortable with what is uncomfortable viewing....thats if you can get in touch with your darker side.</td>\n",
              "      <td>positive</td>\n",
              "    </tr>\n",
              "    <tr>\n",
              "      <th>1</th>\n",
              "      <td>A wonderful little production. &lt;br /&gt;&lt;br /&gt;The filming technique is very unassuming- very old-time-BBC fashion and gives a comforting, and sometimes discomforting, sense of realism to the entire piece. &lt;br /&gt;&lt;br /&gt;The actors are extremely well chosen- Michael Sheen not only \"has got all the polari\" but he has all the voices down pat too! You can truly see the seamless editing guided by the references to Williams' diary entries, not only is it well worth the watching but it is a terrificly written and performed piece. A masterful production about one of the great master's of comedy and his life. &lt;br /&gt;&lt;br /&gt;The realism really comes home with the little things: the fantasy of the guard which, rather than use the traditional 'dream' techniques remains solid then disappears. It plays on our knowledge and our senses, particularly with the scenes concerning Orton and Halliwell and the sets (particularly of their flat with Halliwell's murals decorating every surface) are terribly well done.</td>\n",
              "      <td>positive</td>\n",
              "    </tr>\n",
              "    <tr>\n",
              "      <th>2</th>\n",
              "      <td>I thought this was a wonderful way to spend time on a too hot summer weekend, sitting in the air conditioned theater and watching a light-hearted comedy. The plot is simplistic, but the dialogue is witty and the characters are likable (even the well bread suspected serial killer). While some may be disappointed when they realize this is not Match Point 2: Risk Addiction, I thought it was proof that Woody Allen is still fully in control of the style many of us have grown to love.&lt;br /&gt;&lt;br /&gt;This was the most I'd laughed at one of Woody's comedies in years (dare I say a decade?). While I've never been impressed with Scarlet Johanson, in this she managed to tone down her \"sexy\" image and jumped right into a average, but spirited young woman.&lt;br /&gt;&lt;br /&gt;This may not be the crown jewel of his career, but it was wittier than \"Devil Wears Prada\" and more interesting than \"Superman\" a great comedy to go see with friends.</td>\n",
              "      <td>positive</td>\n",
              "    </tr>\n",
              "    <tr>\n",
              "      <th>3</th>\n",
              "      <td>Basically there's a family where a little boy (Jake) thinks there's a zombie in his closet &amp; his parents are fighting all the time.&lt;br /&gt;&lt;br /&gt;This movie is slower than a soap opera... and suddenly, Jake decides to become Rambo and kill the zombie.&lt;br /&gt;&lt;br /&gt;OK, first of all when you're going to make a film you must Decide if its a thriller or a drama! As a drama the movie is watchable. Parents are divorcing &amp; arguing like in real life. And then we have Jake with his closet which totally ruins all the film! I expected to see a BOOGEYMAN similar movie, and instead i watched a drama with some meaningless thriller spots.&lt;br /&gt;&lt;br /&gt;3 out of 10 just for the well playing parents &amp; descent dialogs. As for the shots with Jake: just ignore them.</td>\n",
              "      <td>negative</td>\n",
              "    </tr>\n",
              "    <tr>\n",
              "      <th>4</th>\n",
              "      <td>Petter Mattei's \"Love in the Time of Money\" is a visually stunning film to watch. Mr. Mattei offers us a vivid portrait about human relations. This is a movie that seems to be telling us what money, power and success do to people in the different situations we encounter. &lt;br /&gt;&lt;br /&gt;This being a variation on the Arthur Schnitzler's play about the same theme, the director transfers the action to the present time New York where all these different characters meet and connect. Each one is connected in one way, or another to the next person, but no one seems to know the previous point of contact. Stylishly, the film has a sophisticated luxurious look. We are taken to see how these people live and the world they live in their own habitat.&lt;br /&gt;&lt;br /&gt;The only thing one gets out of all these souls in the picture is the different stages of loneliness each one inhabits. A big city is not exactly the best place in which human relations find sincere fulfillment, as one discerns is the case with most of the people we encounter.&lt;br /&gt;&lt;br /&gt;The acting is good under Mr. Mattei's direction. Steve Buscemi, Rosario Dawson, Carol Kane, Michael Imperioli, Adrian Grenier, and the rest of the talented cast, make these characters come alive.&lt;br /&gt;&lt;br /&gt;We wish Mr. Mattei good luck and await anxiously for his next work.</td>\n",
              "      <td>positive</td>\n",
              "    </tr>\n",
              "  </tbody>\n",
              "</table>\n",
              "</div>"
            ],
            "text/plain": [
              "                                                                                                                                                                                                                                                                                                                                                                                                                                                                                                                                                                                                                                                                                                                                                                                                                                                                                                                                                                                                                                                                                                                                                                                                                                                                                                                                                                                                                                                                                                                                                                                                                                                                                                                                                                                                                              review  \\\n",
              "0  One of the other reviewers has mentioned that after watching just 1 Oz episode you'll be hooked. They are right, as this is exactly what happened with me.<br /><br />The first thing that struck me about Oz was its brutality and unflinching scenes of violence, which set in right from the word GO. Trust me, this is not a show for the faint hearted or timid. This show pulls no punches with regards to drugs, sex or violence. Its is hardcore, in the classic use of the word.<br /><br />It is called OZ as that is the nickname given to the Oswald Maximum Security State Penitentary. It focuses mainly on Emerald City, an experimental section of the prison where all the cells have glass fronts and face inwards, so privacy is not high on the agenda. Em City is home to many..Aryans, Muslims, gangstas, Latinos, Christians, Italians, Irish and more....so scuffles, death stares, dodgy dealings and shady agreements are never far away.<br /><br />I would say the main appeal of the show is due to the fact that it goes where other shows wouldn't dare. Forget pretty pictures painted for mainstream audiences, forget charm, forget romance...OZ doesn't mess around. The first episode I ever saw struck me as so nasty it was surreal, I couldn't say I was ready for it, but as I watched more, I developed a taste for Oz, and got accustomed to the high levels of graphic violence. Not just violence, but injustice (crooked guards who'll be sold out for a nickel, inmates who'll kill on order and get away with it, well mannered, middle class inmates being turned into prison bitches due to their lack of street skills or prison experience) Watching Oz, you may become comfortable with what is uncomfortable viewing....thats if you can get in touch with your darker side.   \n",
              "1                                                                                                                                                                                                                                                                                                                                                                                                                                                                                                                                                                                                                                                                                                                                                                                             A wonderful little production. <br /><br />The filming technique is very unassuming- very old-time-BBC fashion and gives a comforting, and sometimes discomforting, sense of realism to the entire piece. <br /><br />The actors are extremely well chosen- Michael Sheen not only \"has got all the polari\" but he has all the voices down pat too! You can truly see the seamless editing guided by the references to Williams' diary entries, not only is it well worth the watching but it is a terrificly written and performed piece. A masterful production about one of the great master's of comedy and his life. <br /><br />The realism really comes home with the little things: the fantasy of the guard which, rather than use the traditional 'dream' techniques remains solid then disappears. It plays on our knowledge and our senses, particularly with the scenes concerning Orton and Halliwell and the sets (particularly of their flat with Halliwell's murals decorating every surface) are terribly well done.   \n",
              "2                                                                                                                                                                                                                                                                                                                                                                                                                                                                                                                                                                                                                                                                                                                                                                                                                                                                     I thought this was a wonderful way to spend time on a too hot summer weekend, sitting in the air conditioned theater and watching a light-hearted comedy. The plot is simplistic, but the dialogue is witty and the characters are likable (even the well bread suspected serial killer). While some may be disappointed when they realize this is not Match Point 2: Risk Addiction, I thought it was proof that Woody Allen is still fully in control of the style many of us have grown to love.<br /><br />This was the most I'd laughed at one of Woody's comedies in years (dare I say a decade?). While I've never been impressed with Scarlet Johanson, in this she managed to tone down her \"sexy\" image and jumped right into a average, but spirited young woman.<br /><br />This may not be the crown jewel of his career, but it was wittier than \"Devil Wears Prada\" and more interesting than \"Superman\" a great comedy to go see with friends.   \n",
              "3                                                                                                                                                                                                                                                                                                                                                                                                                                                                                                                                                                                                                                                                                                                                                                                                                                                                                                                                                                                                                                                       Basically there's a family where a little boy (Jake) thinks there's a zombie in his closet & his parents are fighting all the time.<br /><br />This movie is slower than a soap opera... and suddenly, Jake decides to become Rambo and kill the zombie.<br /><br />OK, first of all when you're going to make a film you must Decide if its a thriller or a drama! As a drama the movie is watchable. Parents are divorcing & arguing like in real life. And then we have Jake with his closet which totally ruins all the film! I expected to see a BOOGEYMAN similar movie, and instead i watched a drama with some meaningless thriller spots.<br /><br />3 out of 10 just for the well playing parents & descent dialogs. As for the shots with Jake: just ignore them.   \n",
              "4                                                                                                                                                                                                                                                                                                                                                                                                                                                              Petter Mattei's \"Love in the Time of Money\" is a visually stunning film to watch. Mr. Mattei offers us a vivid portrait about human relations. This is a movie that seems to be telling us what money, power and success do to people in the different situations we encounter. <br /><br />This being a variation on the Arthur Schnitzler's play about the same theme, the director transfers the action to the present time New York where all these different characters meet and connect. Each one is connected in one way, or another to the next person, but no one seems to know the previous point of contact. Stylishly, the film has a sophisticated luxurious look. We are taken to see how these people live and the world they live in their own habitat.<br /><br />The only thing one gets out of all these souls in the picture is the different stages of loneliness each one inhabits. A big city is not exactly the best place in which human relations find sincere fulfillment, as one discerns is the case with most of the people we encounter.<br /><br />The acting is good under Mr. Mattei's direction. Steve Buscemi, Rosario Dawson, Carol Kane, Michael Imperioli, Adrian Grenier, and the rest of the talented cast, make these characters come alive.<br /><br />We wish Mr. Mattei good luck and await anxiously for his next work.   \n",
              "\n",
              "  sentiment  \n",
              "0  positive  \n",
              "1  positive  \n",
              "2  positive  \n",
              "3  negative  \n",
              "4  positive  "
            ]
          },
          "metadata": {},
          "output_type": "display_data"
        }
      ],
      "source": [
        "# set pandas to display full text for better inspection\n",
        "pd.set_option('display.max_colwidth', None)\n",
        "\n",
        "# load the dataset\n",
        "try:\n",
        "    df = pd.read_csv('dataset.csv')\n",
        "except FileNotFoundError:\n",
        "    print(\"Error: 'dataset.csv' not found. Make sure it's in the current directory.\")\n",
        "\n",
        "# display first 5 rows\n",
        "print(\"First five rows of dataset:\")\n",
        "display(df.head())\n",
        ""
      ]
    },
    {
      "cell_type": "code",
      "execution_count": null,
      "id": "8874c1b2",
      "metadata": {
        "id": "8874c1b2",
        "outputId": "31d28853-e02c-4da0-c76b-4c48db9041a0"
      },
      "outputs": [
        {
          "name": "stdout",
          "output_type": "stream",
          "text": [
            "\n",
            "Dataset Information:\n",
            "<class 'pandas.core.frame.DataFrame'>\n",
            "RangeIndex: 50000 entries, 0 to 49999\n",
            "Data columns (total 2 columns):\n",
            " #   Column     Non-Null Count  Dtype \n",
            "---  ------     --------------  ----- \n",
            " 0   review     50000 non-null  object\n",
            " 1   sentiment  50000 non-null  object\n",
            "dtypes: object(2)\n",
            "memory usage: 781.4+ KB\n"
          ]
        }
      ],
      "source": [
        "print(\"\\nDataset Information:\")\n",
        "df.info()"
      ]
    },
    {
      "cell_type": "code",
      "execution_count": null,
      "id": "86637662",
      "metadata": {
        "id": "86637662",
        "outputId": "d6bef529-78eb-4bf9-ff47-06eec985b3b0"
      },
      "outputs": [
        {
          "name": "stdout",
          "output_type": "stream",
          "text": [
            "\n",
            "Sentiment Distribution:\n",
            "sentiment\n",
            "positive    25000\n",
            "negative    25000\n",
            "Name: count, dtype: int64\n"
          ]
        }
      ],
      "source": [
        "print(\"\\nSentiment Distribution:\")\n",
        "print(df['sentiment'].value_counts())"
      ]
    },
    {
      "cell_type": "code",
      "execution_count": null,
      "id": "8265ecc4",
      "metadata": {
        "id": "8265ecc4",
        "outputId": "a70e8c40-6f01-453b-dcde-7d8a99bf40b5"
      },
      "outputs": [
        {
          "data": {
            "text/plain": [
              "{'a',\n",
              " 'about',\n",
              " 'above',\n",
              " 'after',\n",
              " 'again',\n",
              " 'against',\n",
              " 'ain',\n",
              " 'all',\n",
              " 'am',\n",
              " 'an',\n",
              " 'and',\n",
              " 'any',\n",
              " 'are',\n",
              " 'aren',\n",
              " \"aren't\",\n",
              " 'as',\n",
              " 'at',\n",
              " 'be',\n",
              " 'because',\n",
              " 'been',\n",
              " 'before',\n",
              " 'being',\n",
              " 'below',\n",
              " 'between',\n",
              " 'both',\n",
              " 'but',\n",
              " 'by',\n",
              " 'can',\n",
              " 'couldn',\n",
              " \"couldn't\",\n",
              " 'd',\n",
              " 'did',\n",
              " 'didn',\n",
              " \"didn't\",\n",
              " 'do',\n",
              " 'does',\n",
              " 'doesn',\n",
              " \"doesn't\",\n",
              " 'doing',\n",
              " 'don',\n",
              " \"don't\",\n",
              " 'down',\n",
              " 'during',\n",
              " 'each',\n",
              " 'few',\n",
              " 'for',\n",
              " 'from',\n",
              " 'further',\n",
              " 'had',\n",
              " 'hadn',\n",
              " \"hadn't\",\n",
              " 'has',\n",
              " 'hasn',\n",
              " \"hasn't\",\n",
              " 'have',\n",
              " 'haven',\n",
              " \"haven't\",\n",
              " 'having',\n",
              " 'he',\n",
              " \"he'd\",\n",
              " \"he'll\",\n",
              " \"he's\",\n",
              " 'her',\n",
              " 'here',\n",
              " 'hers',\n",
              " 'herself',\n",
              " 'him',\n",
              " 'himself',\n",
              " 'his',\n",
              " 'how',\n",
              " 'i',\n",
              " \"i'd\",\n",
              " \"i'll\",\n",
              " \"i'm\",\n",
              " \"i've\",\n",
              " 'if',\n",
              " 'in',\n",
              " 'into',\n",
              " 'is',\n",
              " 'isn',\n",
              " \"isn't\",\n",
              " 'it',\n",
              " \"it'd\",\n",
              " \"it'll\",\n",
              " \"it's\",\n",
              " 'its',\n",
              " 'itself',\n",
              " 'just',\n",
              " 'll',\n",
              " 'm',\n",
              " 'ma',\n",
              " 'me',\n",
              " 'mightn',\n",
              " \"mightn't\",\n",
              " 'more',\n",
              " 'most',\n",
              " 'mustn',\n",
              " \"mustn't\",\n",
              " 'my',\n",
              " 'myself',\n",
              " 'needn',\n",
              " \"needn't\",\n",
              " 'no',\n",
              " 'nor',\n",
              " 'not',\n",
              " 'now',\n",
              " 'o',\n",
              " 'of',\n",
              " 'off',\n",
              " 'on',\n",
              " 'once',\n",
              " 'only',\n",
              " 'or',\n",
              " 'other',\n",
              " 'our',\n",
              " 'ours',\n",
              " 'ourselves',\n",
              " 'out',\n",
              " 'over',\n",
              " 'own',\n",
              " 're',\n",
              " 's',\n",
              " 'same',\n",
              " 'shan',\n",
              " \"shan't\",\n",
              " 'she',\n",
              " \"she'd\",\n",
              " \"she'll\",\n",
              " \"she's\",\n",
              " 'should',\n",
              " \"should've\",\n",
              " 'shouldn',\n",
              " \"shouldn't\",\n",
              " 'so',\n",
              " 'some',\n",
              " 'such',\n",
              " 't',\n",
              " 'than',\n",
              " 'that',\n",
              " \"that'll\",\n",
              " 'the',\n",
              " 'their',\n",
              " 'theirs',\n",
              " 'them',\n",
              " 'themselves',\n",
              " 'then',\n",
              " 'there',\n",
              " 'these',\n",
              " 'they',\n",
              " \"they'd\",\n",
              " \"they'll\",\n",
              " \"they're\",\n",
              " \"they've\",\n",
              " 'this',\n",
              " 'those',\n",
              " 'through',\n",
              " 'to',\n",
              " 'too',\n",
              " 'under',\n",
              " 'until',\n",
              " 'up',\n",
              " 've',\n",
              " 'very',\n",
              " 'was',\n",
              " 'wasn',\n",
              " \"wasn't\",\n",
              " 'we',\n",
              " \"we'd\",\n",
              " \"we'll\",\n",
              " \"we're\",\n",
              " \"we've\",\n",
              " 'were',\n",
              " 'weren',\n",
              " \"weren't\",\n",
              " 'what',\n",
              " 'when',\n",
              " 'where',\n",
              " 'which',\n",
              " 'while',\n",
              " 'who',\n",
              " 'whom',\n",
              " 'why',\n",
              " 'will',\n",
              " 'with',\n",
              " 'won',\n",
              " \"won't\",\n",
              " 'wouldn',\n",
              " \"wouldn't\",\n",
              " 'y',\n",
              " 'you',\n",
              " \"you'd\",\n",
              " \"you'll\",\n",
              " \"you're\",\n",
              " \"you've\",\n",
              " 'your',\n",
              " 'yours',\n",
              " 'yourself',\n",
              " 'yourselves'}"
            ]
          },
          "execution_count": 13,
          "metadata": {},
          "output_type": "execute_result"
        }
      ],
      "source": [
        "# Get the list of the English stop works\n",
        "stop_words = set(stopwords.words('english'))\n",
        "stop_words\n"
      ]
    },
    {
      "cell_type": "code",
      "execution_count": null,
      "id": "6029895b",
      "metadata": {
        "id": "6029895b"
      },
      "outputs": [],
      "source": [
        "def preprocess_text(text):\n",
        "\n",
        "    \"\"\"\n",
        "    Cleans and preprocesses a single text string.\n",
        "    1. Remove HTML tags\n",
        "    2. lowercase text\n",
        "    3. Removes punctuation and numbers\n",
        "    4. Tokenizes the text\n",
        "    5. Removes stop words\n",
        "    6. Lemmatizes the tokens\n",
        "    \"\"\"\n",
        "\n",
        "    #\n",
        "    text = re.sub(r'<,#7>', \"\", text)  # removes <,#7> from text\n",
        "    text = text.lower() # Converts all characters in the text to lowercase.\n",
        "    text = re.sub(r'[^a-z\\s]', '', text)  #   # Removes all characters except lowercase letters and spaces.\n",
        "    token = word_tokenize(text)   # Splits the text into individual words (tokens).\n",
        "    tokens = [word for word in token if word not in stop_words]  # remove stop words\n",
        "\n",
        "    text = ' '.join(tokens)  # join the tokens back into a string separated by spaces\n",
        "    doc = nlp(text)  # process the text with spaCy\n",
        "    lemmatized_tokens = [token.lemma_ for token in doc]  # Converts each token to its base (lemma) form.\n",
        "\n",
        "    return ' '.join(lemmatized_tokens)  # join the lemmatized tokens back into a string\n",
        ""
      ]
    },
    {
      "cell_type": "code",
      "execution_count": null,
      "id": "7ad7d338",
      "metadata": {
        "id": "7ad7d338",
        "outputId": "8c50a3e6-b614-4c0b-89bd-65887e1f9fc7"
      },
      "outputs": [
        {
          "name": "stdout",
          "output_type": "stream",
          "text": [
            "Preprocessing all 50,000 reviews ... (This may take a few minutes )\n",
            "Preprocessing complete.\n",
            "\n",
            "Comparing original vs cleaned reviews:\n"
          ]
        },
        {
          "data": {
            "text/html": [
              "<div>\n",
              "<style scoped>\n",
              "    .dataframe tbody tr th:only-of-type {\n",
              "        vertical-align: middle;\n",
              "    }\n",
              "\n",
              "    .dataframe tbody tr th {\n",
              "        vertical-align: top;\n",
              "    }\n",
              "\n",
              "    .dataframe thead th {\n",
              "        text-align: right;\n",
              "    }\n",
              "</style>\n",
              "<table border=\"1\" class=\"dataframe\">\n",
              "  <thead>\n",
              "    <tr style=\"text-align: right;\">\n",
              "      <th></th>\n",
              "      <th>review</th>\n",
              "      <th>cleaned_review</th>\n",
              "    </tr>\n",
              "  </thead>\n",
              "  <tbody>\n",
              "    <tr>\n",
              "      <th>9150</th>\n",
              "      <td>Written by someone who has been there, you can tell, but only if you've been there. Excellent performances by Meryl Streep (of course!), Renee Zellweger and William Hurt.&lt;br /&gt;&lt;br /&gt;Many people have said that it is about a dysfunctional family, I think every family is dysfunctional when they are facing this kind of torment. To NOT be dysfunctional would be dysfunctional! You are losing your family as you know it, can anything be worse? People need to see this movie so when they are faced with this nightmare maybe they will change how they do it. Maybe they will see that the father is denying himself valuable time he'll never get a chance at again. Maybe they will realize how hard it is to die, or to watch someone you love die. They didn't miss much of the nightmare, it's hard to forget.</td>\n",
              "      <td>write someone tell you ve excellent performance meryl streep course renee zellweger william hurtbr br many people say dysfunctional family think every family dysfunctional face kind torment dysfunctional would dysfunctional lose family know anything bad people need see movie face nightmare maybe change maybe see father deny valuable time hell never get chance maybe realize hard die watch someone love die do not miss much nightmare hard forget</td>\n",
              "    </tr>\n",
              "    <tr>\n",
              "      <th>3373</th>\n",
              "      <td>When childhood memory tells you this was a scary movie; it's touch and go whether you should revisit it. Anyway, I remembered a scary scene involving a homeless person and a cool villain played by Jeff Kober.&lt;br /&gt;&lt;br /&gt;\"The First Power\" is not a very good movie, sad to say. It's chock full of those cop clichés and a very poor script with holes a truck could drive through (along with countless convenient \"twists\" that help the story run along). Lou Diamond Phillips is the over-confident bad ass cop who sends baddie serial killer Kober to the gas chamber only to find out he was a minion of Satan himself and now has the power of resurrection along with the power of possessing every weak minded person who he comes across. Through in the mix a very poorly realized psychic who helps with the case.&lt;br /&gt;&lt;br /&gt;Ahhh, this is trash. But enjoyable as such, especially if you have fond memories of it. It scared me as a kid and that scene with the homeless person is still pretty good. As for any kind of logic here; forget it, just about every scenario is thrown in for good measure and you end up with a cross between a Steven Segal action flick and a 70's demonic flick. And who on earth thought it was a good idea to cast Lou Diamond Phillips in the lead here? Needless to say he's not convincing at all but he tries his best and I've never had the problem with the guy so many reviewers here seem to have. As for Tracy Griffith as the psychic, the less said the better. But Kober is pretty good as the killer; always liked that actor.&lt;br /&gt;&lt;br /&gt;\"The First Power\" may be just what the doctor ordered after a hard day's work and a \"brain switch-off\" is needed. Beer will most likely enhance the viewing experience and I'll definitely have loads of it the next time I give this movie a spin. All in all; not a good flick but a somewhat guilty pleasure for nostalgic fans who were easily scared as kids. \"See you around, buddy boy\"!</td>\n",
              "      <td>childhood memory tell scary movie touch go whether revisit anyway remember scary scene involve homeless person cool villain play jeff koberbr br first power good movie sad say chock full cop clichs poor script hole truck could drive along countless convenient twist help story run along lou diamond phillips overconfident bad ass cop send baddie serial killer kober gas chamber find minion satan power resurrection along power possess every weak minded person come across mix poorly realize psychic help casebr br ahhh trash enjoyable especially fond memory scared kid scene homeless person still pretty good kind logic forget every scenario throw good measure end cross steven segal action flick demonic flick earth think good idea cast lou diamond phillip lead needless say he s convincing try good I ve never problem guy many reviewer seem tracy griffith psychic less say well kober pretty good killer always like actorbr br first power may doctor order hard day work brain switchoff need beer likely enhance view experience ill definitely load next time give movie spin good flick somewhat guilty pleasure nostalgic fan easily scare kid see around buddy boy</td>\n",
              "    </tr>\n",
              "    <tr>\n",
              "      <th>5330</th>\n",
              "      <td>This is total swill. If you take The Devil's Rejects and suck all the good out of it, and add a lot of twisted, kinky bondage parts, a few rape scenes, and like one or two sincerely horrifying scenes, and you'd get this movie. People are calling this a ripoff of '86's The Hitcher, but I don't see that at all. Even the worst Hitcher ripoffs are still better than this. The main problem on display here is that there's really nothing here besides a few of the director's fetishes being showcased like circus exhibits. Is all you need out of a movie shots of girls being abused and tied up, cowering in fear? Well, then rent this movie!&lt;br /&gt;&lt;br /&gt;However, I'd rather just watch a good movie, which this is clearly not. The sad thing is, there are some really good thrills waiting to be uncovered here, but only a few. For instance, the suspense at the beginning before the bondage nonsense started...pretty damn good if you ask me. And the scene where the hitchhiker kills the nympho girl (can't remember names) is chilling, very brutal in a way, challenging even The Devil's Rejects for unbridled fury. How come the rest of the movie can't be that good? Huh? I really need to stop renting stupid crap like this. Closing message: Just let this gutter trash die and forget it forever. Not recommended.</td>\n",
              "      <td>total swill take devil reject suck good add lot twisted kinky bondage part rape scene like one two sincerely horrify scene you d get movie people call ripoff hitcher do not see even bad hitcher ripoff still well main problem display there s really nothing besides director fetish showcase like circus exhibit need movie shot girl abuse tie cower fear well rent moviebr br however i d rather watch good movie clearly sad thing really good thrill wait uncovered instance suspense begin bondage nonsense startedpretty damn good ask scene hitchhiker kill nympho girl can not remember name chill brutal way challenge even devil reject unbridled fury come rest movie can not good huh really need stop rent stupid crap like closing message let gutter trash die forget forever recommend</td>\n",
              "    </tr>\n",
              "    <tr>\n",
              "      <th>2530</th>\n",
              "      <td>I actually didn't start watching the show until it came on FX. I was bored and had nothing to watch and saw that the show's reruns were premiering so i decided to watch it. I was so upset that I had not watched the show when it first aired on t.v. I loved the show so much!Finally a show for everyone to enjoy. I remember Full House and Family Matters and Step by Step and they were okay shows but just not funny enough. They would make dumb jokes and laugh over things that were just plain stupid, but not That 70s Show. That 70s Show was hilarious, smart and so real. I think it was the best show ever made and I'm very sorry that it ended. Although I love this show, I do think it should have ended on the seventh season when Eric and Kelso leave. The last season was just not right, Eric was the main character and the show should have ended when his character leaves. I still love this show and I hope TV starts making more shows like this one.</td>\n",
              "      <td>actually do not start watch show come fx bored nothing watch see show rerun premiering decide watch upset watch show first air tv love show muchfinally show everyone enjoy remember full house family matter step step okay show funny enough would make dumb joke laugh thing plain stupid show show hilarious smart real think good show ever make I m sorry end although love show think end seventh season eric kelso leave last season right eric main character show end character leave still love show hope tv start make show like one</td>\n",
              "    </tr>\n",
              "    <tr>\n",
              "      <th>42698</th>\n",
              "      <td>This is one of the greatest child-pet movies ever created. I cry every time I see Shadow yelling \"Wait, wait for me Peter!\" as the family car is pulling away. This is a must see if you love animals! Best Movie Ever! The lines in the movie are sometimes stupid. Like when Sassy says to Chance; \"Cat's Rule and dogs drool!\" Lines like this I could do without, but when I was six I bet I loved that line. The storyline may seem hooky to some, but I like it. Shadow as the older dog who's preparing Chance to take over for him when he's gone is really moving when you think about it. It reminded me of my childhood dog. I think everyone can find a piece of themselves in \"Homeward Bound.\"</td>\n",
              "      <td>one great childpet movie ever create cry every time see shadow yelling wait wait peter family car pull away must see love animal good movie ever line movie sometimes stupid like sassy say chance cat rule dog drool line like could without six bet love line storyline may seem hooky like shadow old dog who s prepare chance take he s gone really move think remind childhood dog think everyone find piece homeward bind</td>\n",
              "    </tr>\n",
              "  </tbody>\n",
              "</table>\n",
              "</div>"
            ],
            "text/plain": [
              "                                                                                                                                                                                                                                                                                                                                                                                                                                                                                                                                                                                                                                                                                                                                                                                                                                                                                                                                                                                                                                                                                                                                                                                                                                                                                                                                                                                                                                                                                                                                                                                                                                                                                                                                                                                                                                                                                                                                                                                                                review  \\\n",
              "9150                                                                                                                                                                                                                                                                                                                                                                                                                                                                                                                                                                                                                                                                                                                                                                                                                                                                                                                                                                                                                                                                                                                                                                                     Written by someone who has been there, you can tell, but only if you've been there. Excellent performances by Meryl Streep (of course!), Renee Zellweger and William Hurt.<br /><br />Many people have said that it is about a dysfunctional family, I think every family is dysfunctional when they are facing this kind of torment. To NOT be dysfunctional would be dysfunctional! You are losing your family as you know it, can anything be worse? People need to see this movie so when they are faced with this nightmare maybe they will change how they do it. Maybe they will see that the father is denying himself valuable time he'll never get a chance at again. Maybe they will realize how hard it is to die, or to watch someone you love die. They didn't miss much of the nightmare, it's hard to forget.   \n",
              "3373   When childhood memory tells you this was a scary movie; it's touch and go whether you should revisit it. Anyway, I remembered a scary scene involving a homeless person and a cool villain played by Jeff Kober.<br /><br />\"The First Power\" is not a very good movie, sad to say. It's chock full of those cop clichés and a very poor script with holes a truck could drive through (along with countless convenient \"twists\" that help the story run along). Lou Diamond Phillips is the over-confident bad ass cop who sends baddie serial killer Kober to the gas chamber only to find out he was a minion of Satan himself and now has the power of resurrection along with the power of possessing every weak minded person who he comes across. Through in the mix a very poorly realized psychic who helps with the case.<br /><br />Ahhh, this is trash. But enjoyable as such, especially if you have fond memories of it. It scared me as a kid and that scene with the homeless person is still pretty good. As for any kind of logic here; forget it, just about every scenario is thrown in for good measure and you end up with a cross between a Steven Segal action flick and a 70's demonic flick. And who on earth thought it was a good idea to cast Lou Diamond Phillips in the lead here? Needless to say he's not convincing at all but he tries his best and I've never had the problem with the guy so many reviewers here seem to have. As for Tracy Griffith as the psychic, the less said the better. But Kober is pretty good as the killer; always liked that actor.<br /><br />\"The First Power\" may be just what the doctor ordered after a hard day's work and a \"brain switch-off\" is needed. Beer will most likely enhance the viewing experience and I'll definitely have loads of it the next time I give this movie a spin. All in all; not a good flick but a somewhat guilty pleasure for nostalgic fans who were easily scared as kids. \"See you around, buddy boy\"!   \n",
              "5330                                                                                                                                                                                                                                                                                                                                                                                                                                                                                                                                                                                                                                                              This is total swill. If you take The Devil's Rejects and suck all the good out of it, and add a lot of twisted, kinky bondage parts, a few rape scenes, and like one or two sincerely horrifying scenes, and you'd get this movie. People are calling this a ripoff of '86's The Hitcher, but I don't see that at all. Even the worst Hitcher ripoffs are still better than this. The main problem on display here is that there's really nothing here besides a few of the director's fetishes being showcased like circus exhibits. Is all you need out of a movie shots of girls being abused and tied up, cowering in fear? Well, then rent this movie!<br /><br />However, I'd rather just watch a good movie, which this is clearly not. The sad thing is, there are some really good thrills waiting to be uncovered here, but only a few. For instance, the suspense at the beginning before the bondage nonsense started...pretty damn good if you ask me. And the scene where the hitchhiker kills the nympho girl (can't remember names) is chilling, very brutal in a way, challenging even The Devil's Rejects for unbridled fury. How come the rest of the movie can't be that good? Huh? I really need to stop renting stupid crap like this. Closing message: Just let this gutter trash die and forget it forever. Not recommended.   \n",
              "2530                                                                                                                                                                                                                                                                                                                                                                                                                                                                                                                                                                                                                                                                                                                                                                                                                                                                                                                                                                                                                             I actually didn't start watching the show until it came on FX. I was bored and had nothing to watch and saw that the show's reruns were premiering so i decided to watch it. I was so upset that I had not watched the show when it first aired on t.v. I loved the show so much!Finally a show for everyone to enjoy. I remember Full House and Family Matters and Step by Step and they were okay shows but just not funny enough. They would make dumb jokes and laugh over things that were just plain stupid, but not That 70s Show. That 70s Show was hilarious, smart and so real. I think it was the best show ever made and I'm very sorry that it ended. Although I love this show, I do think it should have ended on the seventh season when Eric and Kelso leave. The last season was just not right, Eric was the main character and the show should have ended when his character leaves. I still love this show and I hope TV starts making more shows like this one.   \n",
              "42698                                                                                                                                                                                                                                                                                                                                                                                                                                                                                                                                                                                                                                                                                                                                                                                                                                                                                                                                                                                                                                                                                                                                                                                                                                                                                                     This is one of the greatest child-pet movies ever created. I cry every time I see Shadow yelling \"Wait, wait for me Peter!\" as the family car is pulling away. This is a must see if you love animals! Best Movie Ever! The lines in the movie are sometimes stupid. Like when Sassy says to Chance; \"Cat's Rule and dogs drool!\" Lines like this I could do without, but when I was six I bet I loved that line. The storyline may seem hooky to some, but I like it. Shadow as the older dog who's preparing Chance to take over for him when he's gone is really moving when you think about it. It reminded me of my childhood dog. I think everyone can find a piece of themselves in \"Homeward Bound.\"   \n",
              "\n",
              "                                                                                                                                                                                                                                                                                                                                                                                                                                                                                                                                                                                                                                                                                                                                                                                                                                                                                                                                                                                                                                                                                                                                                                                                  cleaned_review  \n",
              "9150                                                                                                                                                                                                                                                                                                                                                                                                                                                                                                                                                                                                                                                                                                                                              write someone tell you ve excellent performance meryl streep course renee zellweger william hurtbr br many people say dysfunctional family think every family dysfunctional face kind torment dysfunctional would dysfunctional lose family know anything bad people need see movie face nightmare maybe change maybe see father deny valuable time hell never get chance maybe realize hard die watch someone love die do not miss much nightmare hard forget  \n",
              "3373   childhood memory tell scary movie touch go whether revisit anyway remember scary scene involve homeless person cool villain play jeff koberbr br first power good movie sad say chock full cop clichs poor script hole truck could drive along countless convenient twist help story run along lou diamond phillips overconfident bad ass cop send baddie serial killer kober gas chamber find minion satan power resurrection along power possess every weak minded person come across mix poorly realize psychic help casebr br ahhh trash enjoyable especially fond memory scared kid scene homeless person still pretty good kind logic forget every scenario throw good measure end cross steven segal action flick demonic flick earth think good idea cast lou diamond phillip lead needless say he s convincing try good I ve never problem guy many reviewer seem tracy griffith psychic less say well kober pretty good killer always like actorbr br first power may doctor order hard day work brain switchoff need beer likely enhance view experience ill definitely load next time give movie spin good flick somewhat guilty pleasure nostalgic fan easily scare kid see around buddy boy  \n",
              "5330                                                                                                                                                                                                                                                                                                                                                                                                  total swill take devil reject suck good add lot twisted kinky bondage part rape scene like one two sincerely horrify scene you d get movie people call ripoff hitcher do not see even bad hitcher ripoff still well main problem display there s really nothing besides director fetish showcase like circus exhibit need movie shot girl abuse tie cower fear well rent moviebr br however i d rather watch good movie clearly sad thing really good thrill wait uncovered instance suspense begin bondage nonsense startedpretty damn good ask scene hitchhiker kill nympho girl can not remember name chill brutal way challenge even devil reject unbridled fury come rest movie can not good huh really need stop rent stupid crap like closing message let gutter trash die forget forever recommend  \n",
              "2530                                                                                                                                                                                                                                                                                                                                                                                                                                                                                                                                                                                                                                                            actually do not start watch show come fx bored nothing watch see show rerun premiering decide watch upset watch show first air tv love show muchfinally show everyone enjoy remember full house family matter step step okay show funny enough would make dumb joke laugh thing plain stupid show show hilarious smart real think good show ever make I m sorry end although love show think end seventh season eric kelso leave last season right eric main character show end character leave still love show hope tv start make show like one  \n",
              "42698                                                                                                                                                                                                                                                                                                                                                                                                                                                                                                                                                                                                                                                                                                                                                                            one great childpet movie ever create cry every time see shadow yelling wait wait peter family car pull away must see love animal good movie ever line movie sometimes stupid like sassy say chance cat rule dog drool line like could without six bet love line storyline may seem hooky like shadow old dog who s prepare chance take he s gone really move think remind childhood dog think everyone find piece homeward bind  "
            ]
          },
          "metadata": {},
          "output_type": "display_data"
        }
      ],
      "source": [
        "print(\"Preprocessing all 50,000 reviews ... (This may take a few minutes )\")\n",
        "df = df.sample(500).copy()\n",
        "df['cleaned_review'] = df['review'].apply(preprocess_text)\n",
        "print(\"Preprocessing complete.\")\n",
        "\n",
        "# Display a comparison\n",
        "print(\"\\nComparing original vs cleaned reviews:\")\n",
        "display(df[['review', 'cleaned_review']].head())"
      ]
    },
    {
      "cell_type": "code",
      "execution_count": null,
      "id": "47daba76",
      "metadata": {
        "id": "47daba76",
        "outputId": "96e3d62d-646a-47e2-97d5-c045f3265ee3"
      },
      "outputs": [
        {
          "name": "stdout",
          "output_type": "stream",
          "text": [
            "Training set size: 400\n",
            "Testing set size: 100\n"
          ]
        }
      ],
      "source": [
        "from sklearn.model_selection import train_test_split\n",
        "\n",
        "# Map sentiment labels to 0 and 1\n",
        "df['sentiment_numeric'] = df['sentiment'].map({'positive': 1, 'negative': 0})\n",
        "\n",
        "# Define our feature X and target y\n",
        "X = df['cleaned_review']\n",
        "y = df['sentiment_numeric']\n",
        "\n",
        "# Split the dataset into training and testing sets(80% train, 20% test)\n",
        "# stratify ensures that the proportion of classes is maintained in both sets\n",
        "X_train, X_test, y_train, y_test = train_test_split(X, y, test_size=0.2, random_state=42, stratify=y)\n",
        "\n",
        "print(f\"Training set size: {len(X_train)}\")\n",
        "print(f\"Testing set size: {len(X_test)}\")"
      ]
    },
    {
      "cell_type": "code",
      "execution_count": null,
      "id": "0508d7fd",
      "metadata": {
        "id": "0508d7fd",
        "outputId": "73839129-bef3-4e9f-93e8-6882e7cfa105"
      },
      "outputs": [
        {
          "name": "stdout",
          "output_type": "stream",
          "text": [
            "Shape of the training TF-IDF matrix: (400, 5000)\n",
            "Shape of the testing TF-IDF matrix: (100, 5000)\n"
          ]
        }
      ],
      "source": [
        "from sklearn.feature_extraction.text import TfidfVectorizer\n",
        "\n",
        "# Initialize the TF-IDF Vectorizer\n",
        "# max_features=5000 means we only use the 5000 most common words, which is efficient\n",
        "tfidf = TfidfVectorizer(max_features=5000)\n",
        "\n",
        "# Fit the vectorizer on the training data and transform it\n",
        "X_train_tfidf = tfidf.fit_transform(X_train)\n",
        "\n",
        "# ONLY transform the test data using the already-fitted vectorizer\n",
        "X_test_tfidf = tfidf.transform(X_test)\n",
        "\n",
        "print(f\"Shape of the training TF-IDF matrix: {X_train_tfidf.shape}\")\n",
        "print(f\"Shape of the testing TF-IDF matrix: {X_test_tfidf.shape}\")"
      ]
    },
    {
      "cell_type": "code",
      "execution_count": null,
      "id": "47719122",
      "metadata": {
        "id": "47719122",
        "outputId": "bec1fc53-d466-4283-d587-ab7bde98aebf"
      },
      "outputs": [
        {
          "name": "stdout",
          "output_type": "stream",
          "text": [
            "Model training complete!\n"
          ]
        }
      ],
      "source": [
        "from sklearn.linear_model import LogisticRegression\n",
        "\n",
        "# Initialize and train the model\n",
        "# solver='liblinear' is a good choice for this type of problem\n",
        "model = LogisticRegression(solver='liblinear')\n",
        "model.fit(X_train_tfidf, y_train)\n",
        "\n",
        "print(\"Model training complete!\")"
      ]
    },
    {
      "cell_type": "code",
      "execution_count": null,
      "id": "404918b8",
      "metadata": {
        "id": "404918b8",
        "outputId": "34073bb3-ae12-4ad7-80ec-87fd7e3b389c"
      },
      "outputs": [
        {
          "name": "stdout",
          "output_type": "stream",
          "text": [
            "Review: 'This movie was absolutely fantastic! The acting was superb and the plot was gripping.'\n",
            "Predicted Sentiment: Positive\n",
            "\n",
            "Review: 'I was so bored throughout the entire film. It was a complete waste of time and money.'\n",
            "Predicted Sentiment: Negative\n",
            "\n",
            "Review: 'The film was okay, not great but not terrible either. Some parts were good.'\n",
            "Predicted Sentiment: Positive\n",
            "\n"
          ]
        }
      ],
      "source": [
        "def predict_sentiment(text):\n",
        "    \"\"\"\n",
        "    Takes a raw text string and predicts its sentiment using the trained model.\n",
        "    \"\"\"\n",
        "    # 1. Preprocess the text using the same function from Cell 2\n",
        "    cleaned_text = preprocess_text(text)\n",
        "\n",
        "    # 2. Vectorize the text using the SAME fitted TF-IDF vectorizer from Cell 5\n",
        "    vectorized_text = tfidf.transform([cleaned_text])\n",
        "\n",
        "    # 3. Predict using the trained model from Cell 6\n",
        "    prediction = model.predict(vectorized_text)\n",
        "\n",
        "    # 4. Return the human-readable result\n",
        "    return 'Positive' if prediction[0] == 1 else 'Negative'\n",
        "\n",
        "# --- Test Cases ---\n",
        "review_1 = \"This movie was absolutely fantastic! The acting was superb and the plot was gripping.\"\n",
        "review_2 = \"I was so bored throughout the entire film. It was a complete waste of time and money.\"\n",
        "review_3 = \"The film was okay, not great but not terrible either. Some parts were good.\"\n",
        "\n",
        "print(f\"Review: '{review_1}'\\nPredicted Sentiment: {predict_sentiment(review_1)}\\n\")\n",
        "print(f\"Review: '{review_2}'\\nPredicted Sentiment: {predict_sentiment(review_2)}\\n\")\n",
        "print(f\"Review: '{review_3}'\\nPredicted Sentiment: {predict_sentiment(review_3)}\\n\")"
      ]
    },
    {
      "cell_type": "code",
      "execution_count": null,
      "id": "119112af",
      "metadata": {
        "id": "119112af",
        "outputId": "75459f72-2782-4576-a0e7-9c64352d3c1f"
      },
      "outputs": [
        {
          "name": "stdout",
          "output_type": "stream",
          "text": [
            "Model Accuracy: 0.7700\n",
            "\n",
            "Classification Report:\n",
            "              precision    recall  f1-score   support\n",
            "\n",
            "    Negative       0.78      0.73      0.75        48\n",
            "    Positive       0.76      0.81      0.79        52\n",
            "\n",
            "    accuracy                           0.77       100\n",
            "   macro avg       0.77      0.77      0.77       100\n",
            "weighted avg       0.77      0.77      0.77       100\n",
            "\n"
          ]
        },
        {
          "data": {
            "image/png": "[encoded data removed]",
            "text/plain": [
              "<Figure size 600x500 with 2 Axes>"
            ]
          },
          "metadata": {},
          "output_type": "display_data"
        }
      ],
      "source": [
        "from sklearn.metrics import accuracy_score, classification_report, confusion_matrix\n",
        "import matplotlib.pyplot as plt\n",
        "import seaborn as sns\n",
        "\n",
        "# Make predictions on the test set\n",
        "y_pred = model.predict(X_test_tfidf)\n",
        "\n",
        "# Calculate accuracy\n",
        "accuracy = accuracy_score(y_test, y_pred)\n",
        "print(f\"Model Accuracy: {accuracy:.4f}\")\n",
        "\n",
        "# Print the detailed classification report\n",
        "print(\"\\nClassification Report:\")\n",
        "print(classification_report(y_test, y_pred, target_names=['Negative', 'Positive']))\n",
        "\n",
        "# Plot the confusion matrix\n",
        "cm = confusion_matrix(y_test, y_pred)\n",
        "plt.figure(figsize=(6, 5))\n",
        "sns.heatmap(cm, annot=True, fmt='d', cmap='Blues',\n",
        "            xticklabels=['Negative', 'Positive'],\n",
        "            yticklabels=['Negative', 'Positive'])\n",
        "plt.xlabel('Predicted Label')\n",
        "plt.ylabel('True Label')\n",
        "plt.title('Confusion Matrix')\n",
        "plt.show()"
      ]
    }
  ],
  "metadata": {
    "kernelspec": {
      "display_name": ".venv",
      "language": "python",
      "name": "python3"
    },
    "language_info": {
      "codemirror_mode": {
        "name": "ipython",
        "version": 3
      },
      "file_extension": ".py",
      "mimetype": "text/x-python",
      "name": "python",
      "nbconvert_exporter": "python",
      "pygments_lexer": "ipython3",
      "version": "3.11.4"
    },
    "colab": {
      "provenance": []
    }
  },
  "nbformat": 4,
  "nbformat_minor": 5
}